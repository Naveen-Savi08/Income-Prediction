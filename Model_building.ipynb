{
 "cells": [
  {
   "cell_type": "code",
   "execution_count": 1,
   "metadata": {},
   "outputs": [],
   "source": [
    "import pandas as pd\n",
    "from sklearn.preprocessing import StandardScaler\n",
    "from sklearn.model_selection import train_test_split\n",
    "from sklearn.naive_bayes import GaussianNB\n",
    "from sklearn.metrics import accuracy_score\n",
    "from sklearn.metrics import classification_report\n",
    "from sklearn.ensemble import RandomForestClassifier\n",
    "from sklearn.metrics import confusion_matrix\n",
    "from sklearn.metrics import precision_score, recall_score, f1_score, roc_auc_score\n",
    "\n",
    "import seaborn as sns\n",
    "import matplotlib.pyplot as plt\n",
    "\n",
    "\n",
    "\n",
    "import warnings\n",
    "warnings.filterwarnings('ignore')"
   ]
  },
  {
   "cell_type": "code",
   "execution_count": 2,
   "metadata": {},
   "outputs": [
    {
     "data": {
      "text/html": [
       "<div>\n",
       "<style scoped>\n",
       "    .dataframe tbody tr th:only-of-type {\n",
       "        vertical-align: middle;\n",
       "    }\n",
       "\n",
       "    .dataframe tbody tr th {\n",
       "        vertical-align: top;\n",
       "    }\n",
       "\n",
       "    .dataframe thead th {\n",
       "        text-align: right;\n",
       "    }\n",
       "</style>\n",
       "<table border=\"1\" class=\"dataframe\">\n",
       "  <thead>\n",
       "    <tr style=\"text-align: right;\">\n",
       "      <th></th>\n",
       "      <th>age</th>\n",
       "      <th>workclass</th>\n",
       "      <th>fnlwgt</th>\n",
       "      <th>education</th>\n",
       "      <th>education-num</th>\n",
       "      <th>marital-status</th>\n",
       "      <th>occupation</th>\n",
       "      <th>relationship</th>\n",
       "      <th>race</th>\n",
       "      <th>sex</th>\n",
       "      <th>capital-gain</th>\n",
       "      <th>capital-loss</th>\n",
       "      <th>hours-per-week</th>\n",
       "      <th>native-country</th>\n",
       "      <th>income</th>\n",
       "    </tr>\n",
       "  </thead>\n",
       "  <tbody>\n",
       "    <tr>\n",
       "      <th>0</th>\n",
       "      <td>39.0</td>\n",
       "      <td>5</td>\n",
       "      <td>77516.0</td>\n",
       "      <td>9</td>\n",
       "      <td>12</td>\n",
       "      <td>4</td>\n",
       "      <td>0</td>\n",
       "      <td>1</td>\n",
       "      <td>4</td>\n",
       "      <td>1</td>\n",
       "      <td>2174.0</td>\n",
       "      <td>0</td>\n",
       "      <td>40</td>\n",
       "      <td>38</td>\n",
       "      <td>0</td>\n",
       "    </tr>\n",
       "    <tr>\n",
       "      <th>1</th>\n",
       "      <td>50.0</td>\n",
       "      <td>4</td>\n",
       "      <td>83311.0</td>\n",
       "      <td>9</td>\n",
       "      <td>12</td>\n",
       "      <td>2</td>\n",
       "      <td>3</td>\n",
       "      <td>0</td>\n",
       "      <td>4</td>\n",
       "      <td>1</td>\n",
       "      <td>0.0</td>\n",
       "      <td>0</td>\n",
       "      <td>13</td>\n",
       "      <td>38</td>\n",
       "      <td>0</td>\n",
       "    </tr>\n",
       "    <tr>\n",
       "      <th>2</th>\n",
       "      <td>38.0</td>\n",
       "      <td>2</td>\n",
       "      <td>215646.0</td>\n",
       "      <td>11</td>\n",
       "      <td>8</td>\n",
       "      <td>0</td>\n",
       "      <td>5</td>\n",
       "      <td>1</td>\n",
       "      <td>4</td>\n",
       "      <td>1</td>\n",
       "      <td>0.0</td>\n",
       "      <td>0</td>\n",
       "      <td>40</td>\n",
       "      <td>38</td>\n",
       "      <td>0</td>\n",
       "    </tr>\n",
       "    <tr>\n",
       "      <th>3</th>\n",
       "      <td>53.0</td>\n",
       "      <td>2</td>\n",
       "      <td>234721.0</td>\n",
       "      <td>1</td>\n",
       "      <td>6</td>\n",
       "      <td>2</td>\n",
       "      <td>5</td>\n",
       "      <td>0</td>\n",
       "      <td>2</td>\n",
       "      <td>1</td>\n",
       "      <td>0.0</td>\n",
       "      <td>0</td>\n",
       "      <td>40</td>\n",
       "      <td>38</td>\n",
       "      <td>0</td>\n",
       "    </tr>\n",
       "    <tr>\n",
       "      <th>4</th>\n",
       "      <td>28.0</td>\n",
       "      <td>2</td>\n",
       "      <td>338409.0</td>\n",
       "      <td>9</td>\n",
       "      <td>12</td>\n",
       "      <td>2</td>\n",
       "      <td>9</td>\n",
       "      <td>5</td>\n",
       "      <td>2</td>\n",
       "      <td>0</td>\n",
       "      <td>0.0</td>\n",
       "      <td>0</td>\n",
       "      <td>40</td>\n",
       "      <td>4</td>\n",
       "      <td>0</td>\n",
       "    </tr>\n",
       "    <tr>\n",
       "      <th>...</th>\n",
       "      <td>...</td>\n",
       "      <td>...</td>\n",
       "      <td>...</td>\n",
       "      <td>...</td>\n",
       "      <td>...</td>\n",
       "      <td>...</td>\n",
       "      <td>...</td>\n",
       "      <td>...</td>\n",
       "      <td>...</td>\n",
       "      <td>...</td>\n",
       "      <td>...</td>\n",
       "      <td>...</td>\n",
       "      <td>...</td>\n",
       "      <td>...</td>\n",
       "      <td>...</td>\n",
       "    </tr>\n",
       "    <tr>\n",
       "      <th>45162</th>\n",
       "      <td>33.0</td>\n",
       "      <td>2</td>\n",
       "      <td>245211.0</td>\n",
       "      <td>9</td>\n",
       "      <td>12</td>\n",
       "      <td>4</td>\n",
       "      <td>9</td>\n",
       "      <td>3</td>\n",
       "      <td>4</td>\n",
       "      <td>1</td>\n",
       "      <td>0.0</td>\n",
       "      <td>0</td>\n",
       "      <td>40</td>\n",
       "      <td>38</td>\n",
       "      <td>0</td>\n",
       "    </tr>\n",
       "    <tr>\n",
       "      <th>45163</th>\n",
       "      <td>39.0</td>\n",
       "      <td>2</td>\n",
       "      <td>215419.0</td>\n",
       "      <td>9</td>\n",
       "      <td>12</td>\n",
       "      <td>0</td>\n",
       "      <td>9</td>\n",
       "      <td>1</td>\n",
       "      <td>4</td>\n",
       "      <td>0</td>\n",
       "      <td>0.0</td>\n",
       "      <td>0</td>\n",
       "      <td>36</td>\n",
       "      <td>38</td>\n",
       "      <td>0</td>\n",
       "    </tr>\n",
       "    <tr>\n",
       "      <th>45164</th>\n",
       "      <td>38.0</td>\n",
       "      <td>2</td>\n",
       "      <td>374983.0</td>\n",
       "      <td>9</td>\n",
       "      <td>12</td>\n",
       "      <td>2</td>\n",
       "      <td>9</td>\n",
       "      <td>0</td>\n",
       "      <td>4</td>\n",
       "      <td>1</td>\n",
       "      <td>0.0</td>\n",
       "      <td>0</td>\n",
       "      <td>50</td>\n",
       "      <td>38</td>\n",
       "      <td>0</td>\n",
       "    </tr>\n",
       "    <tr>\n",
       "      <th>45165</th>\n",
       "      <td>44.0</td>\n",
       "      <td>2</td>\n",
       "      <td>83891.0</td>\n",
       "      <td>9</td>\n",
       "      <td>12</td>\n",
       "      <td>0</td>\n",
       "      <td>0</td>\n",
       "      <td>3</td>\n",
       "      <td>1</td>\n",
       "      <td>1</td>\n",
       "      <td>5455.0</td>\n",
       "      <td>0</td>\n",
       "      <td>40</td>\n",
       "      <td>38</td>\n",
       "      <td>0</td>\n",
       "    </tr>\n",
       "    <tr>\n",
       "      <th>45166</th>\n",
       "      <td>35.0</td>\n",
       "      <td>3</td>\n",
       "      <td>182148.0</td>\n",
       "      <td>9</td>\n",
       "      <td>12</td>\n",
       "      <td>2</td>\n",
       "      <td>3</td>\n",
       "      <td>0</td>\n",
       "      <td>4</td>\n",
       "      <td>1</td>\n",
       "      <td>0.0</td>\n",
       "      <td>0</td>\n",
       "      <td>60</td>\n",
       "      <td>38</td>\n",
       "      <td>1</td>\n",
       "    </tr>\n",
       "  </tbody>\n",
       "</table>\n",
       "<p>45167 rows × 15 columns</p>\n",
       "</div>"
      ],
      "text/plain": [
       "        age  workclass    fnlwgt  education  education-num  marital-status  \\\n",
       "0      39.0          5   77516.0          9             12               4   \n",
       "1      50.0          4   83311.0          9             12               2   \n",
       "2      38.0          2  215646.0         11              8               0   \n",
       "3      53.0          2  234721.0          1              6               2   \n",
       "4      28.0          2  338409.0          9             12               2   \n",
       "...     ...        ...       ...        ...            ...             ...   \n",
       "45162  33.0          2  245211.0          9             12               4   \n",
       "45163  39.0          2  215419.0          9             12               0   \n",
       "45164  38.0          2  374983.0          9             12               2   \n",
       "45165  44.0          2   83891.0          9             12               0   \n",
       "45166  35.0          3  182148.0          9             12               2   \n",
       "\n",
       "       occupation  relationship  race  sex  capital-gain  capital-loss  \\\n",
       "0               0             1     4    1        2174.0             0   \n",
       "1               3             0     4    1           0.0             0   \n",
       "2               5             1     4    1           0.0             0   \n",
       "3               5             0     2    1           0.0             0   \n",
       "4               9             5     2    0           0.0             0   \n",
       "...           ...           ...   ...  ...           ...           ...   \n",
       "45162           9             3     4    1           0.0             0   \n",
       "45163           9             1     4    0           0.0             0   \n",
       "45164           9             0     4    1           0.0             0   \n",
       "45165           0             3     1    1        5455.0             0   \n",
       "45166           3             0     4    1           0.0             0   \n",
       "\n",
       "       hours-per-week  native-country  income  \n",
       "0                  40              38       0  \n",
       "1                  13              38       0  \n",
       "2                  40              38       0  \n",
       "3                  40              38       0  \n",
       "4                  40               4       0  \n",
       "...               ...             ...     ...  \n",
       "45162              40              38       0  \n",
       "45163              36              38       0  \n",
       "45164              50              38       0  \n",
       "45165              40              38       0  \n",
       "45166              60              38       1  \n",
       "\n",
       "[45167 rows x 15 columns]"
      ]
     },
     "execution_count": 2,
     "metadata": {},
     "output_type": "execute_result"
    }
   ],
   "source": [
    "pre_data = pd.read_csv('Income-Prediction\\Preprocessed_dataset.csv')\n",
    "pre_data"
   ]
  },
  {
   "cell_type": "markdown",
   "metadata": {},
   "source": [
    "## Normalization"
   ]
  },
  {
   "cell_type": "code",
   "execution_count": 3,
   "metadata": {},
   "outputs": [],
   "source": [
    "X = pre_data[['marital-status', 'education-num', 'relationship', 'sex', 'age', 'capital-gain']]\n",
    "y = pre_data['income']"
   ]
  },
  {
   "cell_type": "code",
   "execution_count": 4,
   "metadata": {},
   "outputs": [],
   "source": [
    "scaler = StandardScaler()\n",
    "X = pd.DataFrame(scaler.fit_transform(X), columns = X.columns)"
   ]
  },
  {
   "cell_type": "markdown",
   "metadata": {},
   "source": [
    "## Train / Test Split"
   ]
  },
  {
   "cell_type": "code",
   "execution_count": 5,
   "metadata": {},
   "outputs": [],
   "source": [
    "#splitting train, test variables\n",
    "X_train, X_test, y_train, y_test = train_test_split(X, y, test_size = 0.2, random_state = 42)"
   ]
  },
  {
   "cell_type": "code",
   "execution_count": 6,
   "metadata": {},
   "outputs": [
    {
     "data": {
      "text/plain": [
       "((36133, 6), (9034, 6))"
      ]
     },
     "execution_count": 6,
     "metadata": {},
     "output_type": "execute_result"
    }
   ],
   "source": [
    "X_train.shape, X_test.shape"
   ]
  },
  {
   "cell_type": "code",
   "execution_count": 7,
   "metadata": {},
   "outputs": [
    {
     "data": {
      "text/html": [
       "<div>\n",
       "<style scoped>\n",
       "    .dataframe tbody tr th:only-of-type {\n",
       "        vertical-align: middle;\n",
       "    }\n",
       "\n",
       "    .dataframe tbody tr th {\n",
       "        vertical-align: top;\n",
       "    }\n",
       "\n",
       "    .dataframe thead th {\n",
       "        text-align: right;\n",
       "    }\n",
       "</style>\n",
       "<table border=\"1\" class=\"dataframe\">\n",
       "  <thead>\n",
       "    <tr style=\"text-align: right;\">\n",
       "      <th></th>\n",
       "      <th>marital-status</th>\n",
       "      <th>education-num</th>\n",
       "      <th>relationship</th>\n",
       "      <th>sex</th>\n",
       "      <th>age</th>\n",
       "      <th>capital-gain</th>\n",
       "    </tr>\n",
       "  </thead>\n",
       "  <tbody>\n",
       "    <tr>\n",
       "      <th>16570</th>\n",
       "      <td>-1.722256</td>\n",
       "      <td>-0.438650</td>\n",
       "      <td>-0.258480</td>\n",
       "      <td>-1.441101</td>\n",
       "      <td>0.798973</td>\n",
       "      <td>-0.233580</td>\n",
       "    </tr>\n",
       "    <tr>\n",
       "      <th>21745</th>\n",
       "      <td>-1.722256</td>\n",
       "      <td>-0.438650</td>\n",
       "      <td>-0.258480</td>\n",
       "      <td>0.693914</td>\n",
       "      <td>1.561715</td>\n",
       "      <td>-0.233580</td>\n",
       "    </tr>\n",
       "    <tr>\n",
       "      <th>14840</th>\n",
       "      <td>-0.389509</td>\n",
       "      <td>-0.438650</td>\n",
       "      <td>-0.884407</td>\n",
       "      <td>0.693914</td>\n",
       "      <td>0.112504</td>\n",
       "      <td>-0.233580</td>\n",
       "    </tr>\n",
       "    <tr>\n",
       "      <th>35253</th>\n",
       "      <td>-0.389509</td>\n",
       "      <td>-0.438650</td>\n",
       "      <td>-0.884407</td>\n",
       "      <td>0.693914</td>\n",
       "      <td>0.188778</td>\n",
       "      <td>-0.233580</td>\n",
       "    </tr>\n",
       "    <tr>\n",
       "      <th>40482</th>\n",
       "      <td>-0.389509</td>\n",
       "      <td>-0.438650</td>\n",
       "      <td>-0.884407</td>\n",
       "      <td>0.693914</td>\n",
       "      <td>0.570150</td>\n",
       "      <td>-0.233580</td>\n",
       "    </tr>\n",
       "    <tr>\n",
       "      <th>3063</th>\n",
       "      <td>-0.389509</td>\n",
       "      <td>1.128826</td>\n",
       "      <td>-0.884407</td>\n",
       "      <td>0.693914</td>\n",
       "      <td>0.570150</td>\n",
       "      <td>-0.233580</td>\n",
       "    </tr>\n",
       "    <tr>\n",
       "      <th>42169</th>\n",
       "      <td>-0.389509</td>\n",
       "      <td>-0.438650</td>\n",
       "      <td>-0.884407</td>\n",
       "      <td>0.693914</td>\n",
       "      <td>1.027795</td>\n",
       "      <td>-0.233580</td>\n",
       "    </tr>\n",
       "    <tr>\n",
       "      <th>2115</th>\n",
       "      <td>-1.722256</td>\n",
       "      <td>1.128826</td>\n",
       "      <td>1.619299</td>\n",
       "      <td>-1.441101</td>\n",
       "      <td>-0.573965</td>\n",
       "      <td>-0.233580</td>\n",
       "    </tr>\n",
       "    <tr>\n",
       "      <th>7880</th>\n",
       "      <td>-0.389509</td>\n",
       "      <td>-0.438650</td>\n",
       "      <td>-0.884407</td>\n",
       "      <td>0.693914</td>\n",
       "      <td>-0.268867</td>\n",
       "      <td>-0.233580</td>\n",
       "    </tr>\n",
       "    <tr>\n",
       "      <th>34282</th>\n",
       "      <td>-0.389509</td>\n",
       "      <td>1.128826</td>\n",
       "      <td>-0.884407</td>\n",
       "      <td>0.693914</td>\n",
       "      <td>-0.268867</td>\n",
       "      <td>2.613205</td>\n",
       "    </tr>\n",
       "  </tbody>\n",
       "</table>\n",
       "</div>"
      ],
      "text/plain": [
       "       marital-status  education-num  relationship       sex       age  \\\n",
       "16570       -1.722256      -0.438650     -0.258480 -1.441101  0.798973   \n",
       "21745       -1.722256      -0.438650     -0.258480  0.693914  1.561715   \n",
       "14840       -0.389509      -0.438650     -0.884407  0.693914  0.112504   \n",
       "35253       -0.389509      -0.438650     -0.884407  0.693914  0.188778   \n",
       "40482       -0.389509      -0.438650     -0.884407  0.693914  0.570150   \n",
       "3063        -0.389509       1.128826     -0.884407  0.693914  0.570150   \n",
       "42169       -0.389509      -0.438650     -0.884407  0.693914  1.027795   \n",
       "2115        -1.722256       1.128826      1.619299 -1.441101 -0.573965   \n",
       "7880        -0.389509      -0.438650     -0.884407  0.693914 -0.268867   \n",
       "34282       -0.389509       1.128826     -0.884407  0.693914 -0.268867   \n",
       "\n",
       "       capital-gain  \n",
       "16570     -0.233580  \n",
       "21745     -0.233580  \n",
       "14840     -0.233580  \n",
       "35253     -0.233580  \n",
       "40482     -0.233580  \n",
       "3063      -0.233580  \n",
       "42169     -0.233580  \n",
       "2115      -0.233580  \n",
       "7880      -0.233580  \n",
       "34282      2.613205  "
      ]
     },
     "execution_count": 7,
     "metadata": {},
     "output_type": "execute_result"
    }
   ],
   "source": [
    "X_train.head(10)"
   ]
  },
  {
   "cell_type": "markdown",
   "metadata": {},
   "source": [
    "## Model Training"
   ]
  },
  {
   "cell_type": "markdown",
   "metadata": {},
   "source": [
    "### Naive Bayes"
   ]
  },
  {
   "cell_type": "code",
   "execution_count": 8,
   "metadata": {},
   "outputs": [
    {
     "name": "stdout",
     "output_type": "stream",
     "text": [
      "Naïve Bayes Classifier:\n",
      "Accuracy: 0.8184635820234669\n",
      "Classification Report:\n",
      "              precision    recall  f1-score   support\n",
      "\n",
      "           0       0.83      0.95      0.89      6806\n",
      "           1       0.73      0.42      0.54      2228\n",
      "\n",
      "    accuracy                           0.82      9034\n",
      "   macro avg       0.78      0.69      0.71      9034\n",
      "weighted avg       0.81      0.82      0.80      9034\n",
      "\n",
      "Training Set Accuracy: 0.8143802064594692\n",
      "Test Set Accuracy: 0.8184635820234669\n"
     ]
    }
   ],
   "source": [
    "# Creating a Gaussian Classifier\n",
    "model = GaussianNB()\n",
    "\n",
    "# Train the model using the training sets\n",
    "gnb = model.fit(X_train,y_train)\n",
    "\n",
    "# Predictions on the test set\n",
    "gnb_predictions = gnb.predict(X_test)\n",
    "\n",
    "# Evaluate Naïve Bayes Classifier\n",
    "print(\"Naïve Bayes Classifier:\")\n",
    "print(\"Accuracy:\", accuracy_score(y_test, gnb_predictions))\n",
    "print(\"Classification Report:\")\n",
    "print(classification_report(y_test, gnb_predictions))\n",
    "\n",
    "# Scores on training and test sets\n",
    "print(\"Training Set Accuracy:\", model.score(X_train, y_train))\n",
    "print(\"Test Set Accuracy:\", model.score(X_test, y_test))"
   ]
  },
  {
   "cell_type": "code",
   "execution_count": 9,
   "metadata": {},
   "outputs": [
    {
     "name": "stdout",
     "output_type": "stream",
     "text": [
      "Confusion Matrix:\n",
      "[[6448  358]\n",
      " [1282  946]]\n"
     ]
    }
   ],
   "source": [
    "# Calculate confusion matrix\n",
    "conf_matrix = confusion_matrix(y_test, gnb_predictions)\n",
    "\n",
    "# Print confusion matrix\n",
    "print(\"Confusion Matrix:\")\n",
    "print(conf_matrix)\n"
   ]
  },
  {
   "cell_type": "code",
   "execution_count": 10,
   "metadata": {},
   "outputs": [
    {
     "data": {
      "image/png": "[encoded data removed]",
      "text/plain": [
       "<Figure size 800x600 with 1 Axes>"
      ]
     },
     "metadata": {},
     "output_type": "display_data"
    }
   ],
   "source": [
    "# Plot confusion matrix\n",
    "plt.figure(figsize=(8, 6))\n",
    "sns.heatmap(conf_matrix, annot=True, fmt=\"d\", cmap=\"Blues\", cbar=False)\n",
    "plt.title(\"Confusion Matrix\")\n",
    "plt.xlabel(\"Predicted Labels\")\n",
    "plt.ylabel(\"True Labels\")\n",
    "plt.show()"
   ]
  },
  {
   "cell_type": "markdown",
   "metadata": {},
   "source": [
    "### Random Forest"
   ]
  },
  {
   "cell_type": "code",
   "execution_count": 11,
   "metadata": {},
   "outputs": [
    {
     "name": "stdout",
     "output_type": "stream",
     "text": [
      "Random Forest Classifier:\n",
      "Accuracy: 0.841044941332743\n",
      "Classification Report:\n",
      "              precision    recall  f1-score   support\n",
      "\n",
      "           0       0.88      0.92      0.90      6806\n",
      "           1       0.71      0.60      0.65      2228\n",
      "\n",
      "    accuracy                           0.84      9034\n",
      "   macro avg       0.79      0.76      0.77      9034\n",
      "weighted avg       0.83      0.84      0.84      9034\n",
      "\n",
      "Training Set Accuracy: 0.8644452439598151\n",
      "Test Set Accuracy: 0.841044941332743\n"
     ]
    }
   ],
   "source": [
    "# Initialize the classifier\n",
    "random= RandomForestClassifier(random_state=42)\n",
    "\n",
    "# Fit GridSearchCV\n",
    "random_forest = random.fit(X_train, y_train)\n",
    "\n",
    "y_pred = random_forest.predict(X_test)\n",
    "\n",
    "# Evaluate Naïve Bayes Classifier\n",
    "print(\"Random Forest Classifier:\")\n",
    "print(\"Accuracy:\", accuracy_score(y_test, y_pred))\n",
    "print(\"Classification Report:\")\n",
    "print(classification_report(y_test, y_pred))\n",
    "\n",
    "# Scores on training and test sets\n",
    "print(\"Training Set Accuracy:\", random.score(X_train, y_train))\n",
    "print(\"Test Set Accuracy:\", random.score(X_test, y_test))"
   ]
  },
  {
   "cell_type": "code",
   "execution_count": 12,
   "metadata": {},
   "outputs": [
    {
     "name": "stdout",
     "output_type": "stream",
     "text": [
      "Confusion Matrix:\n",
      "[[6265  541]\n",
      " [ 895 1333]]\n"
     ]
    }
   ],
   "source": [
    "# Confusion Matrix\n",
    "conf_matrix = confusion_matrix(y_test, y_pred)\n",
    "print(\"Confusion Matrix:\")\n",
    "print(conf_matrix)"
   ]
  },
  {
   "cell_type": "code",
   "execution_count": 13,
   "metadata": {},
   "outputs": [
    {
     "data": {
      "image/png": "[encoded data removed]",
      "text/plain": [
       "<Figure size 800x600 with 1 Axes>"
      ]
     },
     "metadata": {},
     "output_type": "display_data"
    }
   ],
   "source": [
    "# Plot confusion matrix\n",
    "plt.figure(figsize=(8, 6))\n",
    "sns.heatmap(conf_matrix, annot=True, fmt=\"d\", cmap=\"Blues\", cbar=False)\n",
    "plt.title(\"Confusion Matrix\")\n",
    "plt.xlabel(\"Predicted Labels\")\n",
    "plt.ylabel(\"True Labels\")\n",
    "plt.show()"
   ]
  },
  {
   "cell_type": "markdown",
   "metadata": {},
   "source": [
    "### Comparing the Naive bayes and Random forest"
   ]
  },
  {
   "cell_type": "code",
   "execution_count": 14,
   "metadata": {},
   "outputs": [
    {
     "name": "stdout",
     "output_type": "stream",
     "text": [
      "Random Forest Classifier:\n",
      "Accuracy: 0.841044941332743\n",
      "Precision: 0.7113127001067235\n",
      "Recall: 0.598294434470377\n",
      "F1 Score: 0.6499268649439298\n",
      "ROC AUC: 0.8854822890985936\n",
      "\n",
      "Naive Bayes Classifier:\n",
      "Accuracy: 0.8184635820234669\n",
      "Precision: 0.7254601226993865\n",
      "Recall: 0.4245960502692998\n",
      "F1 Score: 0.535673839184598\n",
      "ROC AUC: 0.8543754758052221\n"
     ]
    }
   ],
   "source": [
    "# Initialize classifiers\n",
    "random_forest = RandomForestClassifier(random_state=42)\n",
    "naive_bayes = GaussianNB()\n",
    "\n",
    "# Train Random Forest classifier\n",
    "random_forest = random_forest.fit(X_train, y_train)\n",
    "rf_predictions = random_forest.predict(X_test)\n",
    "\n",
    "# Train Naive Bayes classifier\n",
    "nb_model = naive_bayes.fit(X_train, y_train)\n",
    "nb_predictions = nb_model.predict(X_test)\n",
    "\n",
    "# Evaluate Random Forest Classifier\n",
    "print(\"Random Forest Classifier:\")\n",
    "print(\"Accuracy:\", accuracy_score(y_test, rf_predictions))\n",
    "print(\"Precision:\", precision_score(y_test, rf_predictions))\n",
    "print(\"Recall:\", recall_score(y_test, rf_predictions))\n",
    "print(\"F1 Score:\", f1_score(y_test, rf_predictions))\n",
    "print(\"ROC AUC:\", roc_auc_score(y_test, random_forest.predict_proba(X_test)[:,1]))\n",
    "\n",
    "# Evaluate Naive Bayes Classifier\n",
    "print(\"\\nNaive Bayes Classifier:\")\n",
    "print(\"Accuracy:\", accuracy_score(y_test, nb_predictions))\n",
    "print(\"Precision:\", precision_score(y_test, nb_predictions))\n",
    "print(\"Recall:\", recall_score(y_test, nb_predictions))\n",
    "print(\"F1 Score:\", f1_score(y_test, nb_predictions))\n",
    "print(\"ROC AUC:\", roc_auc_score(y_test, nb_model.predict_proba(X_test)[:,1]))"
   ]
  },
  {
   "cell_type": "code",
   "execution_count": 16,
   "metadata": {},
   "outputs": [
    {
     "data": {
      "image/png": "[encoded data removed]",
      "text/plain": [
       "<Figure size 800x600 with 1 Axes>"
      ]
     },
     "metadata": {},
     "output_type": "display_data"
    }
   ],
   "source": [
    "import matplotlib.pyplot as plt\n",
    "from sklearn.metrics import roc_curve\n",
    "\n",
    "# Define function to plot ROC curve\n",
    "def plot_roc_curve(y_true, y_pred_probs_rf, y_pred_probs_nb):\n",
    "    fpr_rf, tpr_rf, _ = roc_curve(y_true, y_pred_probs_rf)\n",
    "    fpr_nb, tpr_nb, _ = roc_curve(y_true, y_pred_probs_nb)\n",
    "    plt.figure(figsize=(8, 6))\n",
    "    plt.plot(fpr_rf, tpr_rf, label='Random Forest')\n",
    "    plt.plot(fpr_nb, tpr_nb, label='Naive Bayes')\n",
    "    plt.plot([0, 1], [0, 1], 'k--')\n",
    "    plt.xlabel('False Positive Rate')\n",
    "    plt.ylabel('True Positive Rate')\n",
    "    plt.title('ROC Curve')\n",
    "    plt.legend()\n",
    "    plt.show()\n",
    "\n",
    "# Plotting ROC Curve\n",
    "plot_roc_curve(y_test, random_forest.predict_proba(X_test)[:, 1], nb_model.predict_proba(X_test)[:, 1])\n"
   ]
  }
 ],
 "metadata": {
  "kernelspec": {
   "display_name": "Python 3",
   "language": "python",
   "name": "python3"
  },
  "language_info": {
   "codemirror_mode": {
    "name": "ipython",
    "version": 3
   },
   "file_extension": ".py",
   "mimetype": "text/x-python",
   "name": "python",
   "nbconvert_exporter": "python",
   "pygments_lexer": "ipython3",
   "version": "3.11.2"
  }
 },
 "nbformat": 4,
 "nbformat_minor": 2
}
